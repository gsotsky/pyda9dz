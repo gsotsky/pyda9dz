{
 "cells": [
  {
   "cell_type": "markdown",
   "metadata": {},
   "source": [
    "<h1>Домашнее задание «Работа с файловой системой и модули»</h1>\n",
    "<h2>Преподаватель: Константин Башевой</h2>\n",
    "<h3>Студент: Григорий Сотский</h3>\n",
    "<h4>10.05.2020</h4>\n",
    "\n",
    "<p>1. Переведите содержимое файла purchase_log.txt в словарь purchases вида:<br>\n",
    "\n",
    "<code>{'1840e0b9d4': 'Продукты', ...}</code><br>\n",
    "2. Для каждого user_id в файле visit_log.csv определите третий столбец с категорией покупки (если покупка была, сам файл visit_log.csv изменять не надо). Запишите в файл funnel.csv визиты из файла visit_log.csv, в которых были покупки с указанием категории.<br>\n",
    "\n",
    "Учтите условия на данные:<br>\n",
    "\n",
    "содержимое purchase_log.txt помещается в оперативную память компьютера<br>\n",
    "содержимое visit_log.csv - нет; используйте только построчную обработку этого файла</p>"
   ]
  },
  {
   "cell_type": "code",
   "execution_count": 1,
   "metadata": {},
   "outputs": [
    {
     "name": "stdout",
     "output_type": "stream",
     "text": [
      "{'1840e0b9d4': 'Продукты', '4e4f90fcfb': 'Электроника', 'afea8d72fc': 'Электроника', '373a6055fe': 'Бытовая техника', '9b2ab046f3': 'Электроника'}\n"
     ]
    }
   ],
   "source": [
    "purchases = {}\n",
    "f = open('purchase_log.txt', 'r', encoding='utf-8')\n",
    "content = f.readlines()\n",
    "\n",
    "for line in content[:6]:\n",
    "    line = line.strip().split(',')\n",
    "    purchases[line[0][13:-1]] = line[1][14:-2]\n",
    "           \n",
    "\n",
    "del(purchases['\"user_id'])\n",
    "print(purchases)"
   ]
  },
  {
   "cell_type": "code",
   "execution_count": 2,
   "metadata": {},
   "outputs": [
    {
     "name": "stdout",
     "output_type": "stream",
     "text": [
      "1840e0b9d4 Продукты\n",
      "4e4f90fcfb Электроника\n",
      "afea8d72fc Электроника\n",
      "373a6055fe Бытовая техника\n",
      "9b2ab046f3 Электроника\n"
     ]
    }
   ],
   "source": [
    "for user_ids in purchases:\n",
    "    print(user_ids, purchases[user_ids])"
   ]
  },
  {
   "cell_type": "code",
   "execution_count": 3,
   "metadata": {},
   "outputs": [
    {
     "name": "stdout",
     "output_type": "stream",
     "text": [
      "['user_id, channel, category\\n', '1840e0b9d4, other, Продукты\\n', '1840e0b9d4, other, Продукты\\n', '4e4f90fcfb, context, Электроника\\n', 'afea8d72fc, other, Электроника\\n', '373a6055fe, other, Бытовая техника\\n', '9b2ab046f3, other, Электроника\\n']\n"
     ]
    }
   ],
   "source": [
    "i1 = 0\n",
    "new_list = ['user_id, channel, category\\n']\n",
    "with open('visit_log.csv', 'r', encoding='utf-8') as f1:\n",
    "    for line1 in f1:\n",
    "        line1 = line1.strip().split(',')\n",
    "        i1 += 1\n",
    "        if i1 > 1000:\n",
    "            break\n",
    "        for user_ids in purchases:\n",
    "                if line1[0] == user_ids:\n",
    "                    line3 = line1[0] + ', ' + line1[1] + ', ' + purchases[user_ids] + '\\n'\n",
    "                    new_list.append(line3)\n",
    "print(new_list)"
   ]
  },
  {
   "cell_type": "code",
   "execution_count": 4,
   "metadata": {},
   "outputs": [
    {
     "name": "stdout",
     "output_type": "stream",
     "text": [
      "Записываю строку:  user_id, channel, category\n",
      "\n",
      "Записываю строку:  1840e0b9d4, other, Продукты\n",
      "\n",
      "Записываю строку:  1840e0b9d4, other, Продукты\n",
      "\n",
      "Записываю строку:  4e4f90fcfb, context, Электроника\n",
      "\n",
      "Записываю строку:  afea8d72fc, other, Электроника\n",
      "\n",
      "Записываю строку:  373a6055fe, other, Бытовая техника\n",
      "\n",
      "Записываю строку:  9b2ab046f3, other, Электроника\n",
      "\n"
     ]
    }
   ],
   "source": [
    "with open('funnel.csv', 'w') as f2write:\n",
    "    for line4 in new_list:\n",
    "        print('Записываю строку: ', line4)\n",
    "        f2write.write(line4)"
   ]
  },
  {
   "cell_type": "markdown",
   "metadata": {},
   "source": [
    "<hr>"
   ]
  },
  {
   "cell_type": "code",
   "execution_count": 5,
   "metadata": {},
   "outputs": [],
   "source": [
    "purchases = {}\n",
    "f = open('purchase_log.txt', 'r', encoding='utf-8')\n",
    "content = f.readlines()\n",
    "\n",
    "for line in content:\n",
    "    line = line.strip().split(',')\n",
    "    purchases[line[0][13:-1]] = line[1][14:-2]\n",
    "           \n",
    "\n",
    "del(purchases['\"user_id'])"
   ]
  },
  {
   "cell_type": "code",
   "execution_count": 6,
   "metadata": {},
   "outputs": [],
   "source": [
    "new_list = ['user_id, channel, category\\n']\n",
    "with open('visit_log.csv', 'r', encoding='utf-8') as f1:\n",
    "    for line1 in f1:\n",
    "        line1 = line1.strip().split(',')\n",
    "        for user_ids in purchases:\n",
    "                if user_ids in line1[0]:\n",
    "                    line3 = line1[0] + ', ' + line1[1] + ', ' + purchases[user_ids] + '\\n'\n",
    "                    new_list.append(line3)\n",
    "                    with open('funnel2.csv', 'w') as f2write:\n",
    "                        for line4 in new_list:\n",
    "                            f2write.write(line4) "
   ]
  },
  {
   "cell_type": "markdown",
   "metadata": {},
   "source": [
    "Результат: <a href = funnel2.csv>funnel2.csv</a>"
   ]
  },
  {
   "cell_type": "code",
   "execution_count": null,
   "metadata": {},
   "outputs": [],
   "source": []
  }
 ],
 "metadata": {
  "kernelspec": {
   "display_name": "Python 3",
   "language": "python",
   "name": "python3"
  },
  "language_info": {
   "codemirror_mode": {
    "name": "ipython",
    "version": 3
   },
   "file_extension": ".py",
   "mimetype": "text/x-python",
   "name": "python",
   "nbconvert_exporter": "python",
   "pygments_lexer": "ipython3",
   "version": "3.7.6"
  }
 },
 "nbformat": 4,
 "nbformat_minor": 4
}
