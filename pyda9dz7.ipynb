{
 "cells": [
  {
   "cell_type": "markdown",
   "metadata": {},
   "source": [
    "<h1>Домашнее задание к лекции «Исключения и обработка ошибок»</h1>"
   ]
  },
  {
   "cell_type": "markdown",
   "metadata": {},
   "source": [
    "<h2>Преподаватель: Константин Башевой</h2>"
   ]
  },
  {
   "cell_type": "markdown",
   "metadata": {},
   "source": [
    "<h3>Студент: Григорий Сотский</h3>"
   ]
  },
  {
   "cell_type": "markdown",
   "metadata": {},
   "source": [
    "<h4>Дата: 17.05.2020</h4>"
   ]
  },
  {
   "cell_type": "markdown",
   "metadata": {},
   "source": [
    "<p>Задание 1 Напишите функцию date_range, которая возвращает список дней между датами start_date и end_date. Даты должны вводиться в формате YYYY-MM-DD.</p>"
   ]
  },
  {
   "cell_type": "code",
   "execution_count": 1,
   "metadata": {},
   "outputs": [],
   "source": [
    "def date_range(start_date_dt, end_date_dt):\n",
    "    from datetime import timedelta\n",
    "    from datetime import datetime\n",
    "    start_date_dt = datetime.strptime(start_date_dt, '%Y-%m-%d')\n",
    "    end_date_dt = datetime.strptime(end_date_dt, '%Y-%m-%d')\n",
    "    date = []\n",
    "    current_dt = start_date_dt + timedelta(days=1)\n",
    "    while current_dt < end_date_dt:\n",
    "        date.append(current_dt.strftime('%Y-%m-%d'))    \n",
    "        current_dt += timedelta(days=1)\n",
    "\n",
    "    return date"
   ]
  },
  {
   "cell_type": "code",
   "execution_count": 2,
   "metadata": {},
   "outputs": [
    {
     "name": "stdout",
     "output_type": "stream",
     "text": [
      "Введите дату начала в формате YYYY-MM-DD: 2020-05-01\n",
      "Введите дату окончания в формате YYYY-MM-DD: 2020-05-10\n"
     ]
    },
    {
     "data": {
      "text/plain": [
       "['2020-05-02',\n",
       " '2020-05-03',\n",
       " '2020-05-04',\n",
       " '2020-05-05',\n",
       " '2020-05-06',\n",
       " '2020-05-07',\n",
       " '2020-05-08',\n",
       " '2020-05-09']"
      ]
     },
     "execution_count": 2,
     "metadata": {},
     "output_type": "execute_result"
    }
   ],
   "source": [
    "start_date_dt = input('Введите дату начала в формате YYYY-MM-DD: ')\n",
    "end_date_dt = input('Введите дату окончания в формате YYYY-MM-DD: ')\n",
    "date_range(start_date_dt, end_date_dt)"
   ]
  },
  {
   "cell_type": "markdown",
   "metadata": {},
   "source": [
    "Задание 2\n",
    "Дополните функцию из первого задания проверкой на корректность дат. В случае неверного формата или если start_date > end_date должен возвращаться пустой список."
   ]
  },
  {
   "cell_type": "code",
   "execution_count": 3,
   "metadata": {},
   "outputs": [],
   "source": [
    "def date_range(start_date_dt, end_date_dt):\n",
    "    try:\n",
    "        from datetime import timedelta\n",
    "        from datetime import datetime\n",
    "        start_date_dt = datetime.strptime(start_date_dt, '%Y-%m-%d')\n",
    "        end_date_dt = datetime.strptime(end_date_dt, '%Y-%m-%d')\n",
    "        date = []\n",
    "        if end_date_dt > start_date_dt:\n",
    "            current_dt = start_date_dt + timedelta(days=1)\n",
    "            while current_dt < end_date_dt:\n",
    "                date.append(current_dt.strftime('%Y-%m-%d'))    \n",
    "                current_dt += timedelta(days=1)\n",
    "            return date\n",
    "        else:\n",
    "            print('Дата окончания должна быть позже даты начала')\n",
    "            date = []\n",
    "            print(date)\n",
    "    except:\n",
    "        print('не правильный формат введенной даты')\n",
    "        date = []\n",
    "        print(date)"
   ]
  },
  {
   "cell_type": "code",
   "execution_count": 4,
   "metadata": {},
   "outputs": [
    {
     "name": "stdout",
     "output_type": "stream",
     "text": [
      "Введите дату начала в формате YYYY-MM-DD: 20/05/2020\n",
      "Введите дату окончания в формате YYYY-MM-DD: 30/05/2020\n",
      "не правильный формат введенной даты\n",
      "[]\n"
     ]
    }
   ],
   "source": [
    "start_date_dt = input('Введите дату начала в формате YYYY-MM-DD: ')\n",
    "end_date_dt = input('Введите дату окончания в формате YYYY-MM-DD: ')\n",
    "date_range(start_date_dt, end_date_dt)"
   ]
  },
  {
   "cell_type": "code",
   "execution_count": 5,
   "metadata": {},
   "outputs": [
    {
     "name": "stdout",
     "output_type": "stream",
     "text": [
      "Введите дату начала в формате YYYY-MM-DD: 2020-05-10\n",
      "Введите дату окончания в формате YYYY-MM-DD: 2020-05-01\n",
      "Дата окончания должна быть позже даты начала\n",
      "[]\n"
     ]
    }
   ],
   "source": [
    "start_date_dt = input('Введите дату начала в формате YYYY-MM-DD: ')\n",
    "end_date_dt = input('Введите дату окончания в формате YYYY-MM-DD: ')\n",
    "date_range(start_date_dt, end_date_dt)"
   ]
  },
  {
   "cell_type": "code",
   "execution_count": 6,
   "metadata": {},
   "outputs": [
    {
     "name": "stdout",
     "output_type": "stream",
     "text": [
      "Введите дату начала в формате YYYY-MM-DD: 2020-05-01\n",
      "Введите дату окончания в формате YYYY-MM-DD: 2020-05-05\n"
     ]
    },
    {
     "data": {
      "text/plain": [
       "['2020-05-02', '2020-05-03', '2020-05-04']"
      ]
     },
     "execution_count": 6,
     "metadata": {},
     "output_type": "execute_result"
    }
   ],
   "source": [
    "start_date_dt = input('Введите дату начала в формате YYYY-MM-DD: ')\n",
    "end_date_dt = input('Введите дату окончания в формате YYYY-MM-DD: ')\n",
    "date_range(start_date_dt, end_date_dt)"
   ]
  },
  {
   "cell_type": "markdown",
   "metadata": {},
   "source": [
    "<hr>"
   ]
  },
  {
   "cell_type": "markdown",
   "metadata": {},
   "source": [
    "Задание 3\n",
    "Дан поток дат в формате YYYY-MM-DD, в которых встречаются некорректные значения:\n",
    "stream = [‘2018-04-02’, ‘2018-02-29’, ‘2018-19-02’]\n",
    "\n",
    "Напишите функцию, которая проверяет эти даты на корректность. Т. е. для каждой даты возвращает True (дата корректна) или False (некорректная дата)."
   ]
  },
  {
   "cell_type": "code",
   "execution_count": 7,
   "metadata": {},
   "outputs": [],
   "source": [
    "stream = ['2018-04-02', '2018-02-29', '2018-19-02', '2018-38-02', '2020-05-16']"
   ]
  },
  {
   "cell_type": "code",
   "execution_count": 8,
   "metadata": {},
   "outputs": [
    {
     "name": "stdout",
     "output_type": "stream",
     "text": [
      "2018-04-02 00:00:00 True\n",
      "2018-02-29 False\n",
      "2018-19-02 False\n",
      "2018-38-02 False\n",
      "2020-05-16 00:00:00 True\n"
     ]
    }
   ],
   "source": [
    "from datetime import datetime\n",
    "\n",
    "for stream_data in stream:\n",
    "    try:\n",
    "        stream_data = datetime.strptime(stream_data, '%Y-%m-%d')\n",
    "        print(stream_data, True)\n",
    "    except:\n",
    "        print(stream_data, False)"
   ]
  },
  {
   "cell_type": "code",
   "execution_count": null,
   "metadata": {},
   "outputs": [],
   "source": []
  }
 ],
 "metadata": {
  "kernelspec": {
   "display_name": "Python 3",
   "language": "python",
   "name": "python3"
  },
  "language_info": {
   "codemirror_mode": {
    "name": "ipython",
    "version": 3
   },
   "file_extension": ".py",
   "mimetype": "text/x-python",
   "name": "python",
   "nbconvert_exporter": "python",
   "pygments_lexer": "ipython3",
   "version": "3.7.6"
  }
 },
 "nbformat": 4,
 "nbformat_minor": 4
}
